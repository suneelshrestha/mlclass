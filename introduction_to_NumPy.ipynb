{
  "nbformat": 4,
  "nbformat_minor": 0,
  "metadata": {
    "colab": {
      "provenance": [],
      "toc_visible": true,
      "authorship_tag": "ABX9TyNKdhu876h5yLt5YYCeIeMW",
      "include_colab_link": true
    },
    "kernelspec": {
      "name": "python3",
      "display_name": "Python 3"
    },
    "language_info": {
      "name": "python"
    }
  },
  "cells": [
    {
      "cell_type": "markdown",
      "metadata": {
        "id": "view-in-github",
        "colab_type": "text"
      },
      "source": [
        "<a href=\"https://colab.research.google.com/github/suneelshrestha/mlclass/blob/main/introduction_to_NumPy.ipynb\" target=\"_parent\"><img src=\"https://colab.research.google.com/assets/colab-badge.svg\" alt=\"Open In Colab\"/></a>"
      ]
    },
    {
      "cell_type": "markdown",
      "source": [
        "# Introduction to NumPy"
      ],
      "metadata": {
        "id": "IMOIXd58xQB9"
      }
    },
    {
      "cell_type": "markdown",
      "source": [
        "What we will cover?\n",
        "*   ✅Creating arrays\n",
        "*   ✅Multidimesnional array\n",
        "*   Randomly generated arrays\n",
        "*   Element wise operation\n",
        "*   Summarizing operations"
      ],
      "metadata": {
        "id": "ARNDtGLgx3w2"
      }
    },
    {
      "cell_type": "markdown",
      "source": [
        "## creating arrays\n"
      ],
      "metadata": {
        "id": "Kx2OHrAatJPs"
      }
    },
    {
      "cell_type": "code",
      "execution_count": 1,
      "metadata": {
        "id": "JKWELMkbrLtS"
      },
      "outputs": [],
      "source": [
        "import numpy as np"
      ]
    },
    {
      "cell_type": "code",
      "source": [
        "#create an array with all the elements to be  Zeros\n",
        "np.zeros(5)"
      ],
      "metadata": {
        "colab": {
          "base_uri": "https://localhost:8080/"
        },
        "id": "XKBcW-_Dsxk3",
        "outputId": "c69dc101-63c0-4bec-dc15-4876be5f8fc8"
      },
      "execution_count": 2,
      "outputs": [
        {
          "output_type": "execute_result",
          "data": {
            "text/plain": [
              "array([0., 0., 0., 0., 0.])"
            ]
          },
          "metadata": {},
          "execution_count": 2
        }
      ]
    },
    {
      "cell_type": "code",
      "source": [
        "#create an array with all the elements to be one\n",
        "np.ones(5)"
      ],
      "metadata": {
        "colab": {
          "base_uri": "https://localhost:8080/"
        },
        "id": "oUuZcTlttYXS",
        "outputId": "6a9122b0-1b10-4153-b36b-d819ce9815e6"
      },
      "execution_count": 3,
      "outputs": [
        {
          "output_type": "execute_result",
          "data": {
            "text/plain": [
              "array([1., 1., 1., 1., 1.])"
            ]
          },
          "metadata": {},
          "execution_count": 3
        }
      ]
    },
    {
      "cell_type": "code",
      "source": [
        "# create an array of size with all elements 3\n",
        "#np.full(size,elements)\n",
        "np.full(10, 3)"
      ],
      "metadata": {
        "colab": {
          "base_uri": "https://localhost:8080/"
        },
        "id": "Kjcw6QxDthX5",
        "outputId": "f14f4df9-1cdc-4fc7-ede4-5ecd7a23378f"
      },
      "execution_count": 4,
      "outputs": [
        {
          "output_type": "execute_result",
          "data": {
            "text/plain": [
              "array([3, 3, 3, 3, 3, 3, 3, 3, 3, 3])"
            ]
          },
          "metadata": {},
          "execution_count": 4
        }
      ]
    },
    {
      "cell_type": "code",
      "source": [
        "#create random array\n",
        "np.array({1, 2, 3, 4, 5})"
      ],
      "metadata": {
        "colab": {
          "base_uri": "https://localhost:8080/"
        },
        "id": "MhU1quwUt-bU",
        "outputId": "b7848cf4-42a7-496e-bd22-324c8b778519"
      },
      "execution_count": 5,
      "outputs": [
        {
          "output_type": "execute_result",
          "data": {
            "text/plain": [
              "array({1, 2, 3, 4, 5}, dtype=object)"
            ]
          },
          "metadata": {},
          "execution_count": 5
        }
      ]
    },
    {
      "cell_type": "code",
      "source": [
        "#creating array starting form one element to specific element\n",
        "#np.arange(starting element,ending element-1)\n",
        "np.arange(3, 10)"
      ],
      "metadata": {
        "colab": {
          "base_uri": "https://localhost:8080/"
        },
        "id": "Te6j0Rn7v0Fp",
        "outputId": "348db187-b2d7-4aa3-a08b-eee24c5db650"
      },
      "execution_count": 7,
      "outputs": [
        {
          "output_type": "execute_result",
          "data": {
            "text/plain": [
              "array([3, 4, 5, 6, 7, 8, 9])"
            ]
          },
          "metadata": {},
          "execution_count": 7
        }
      ]
    },
    {
      "cell_type": "code",
      "source": [
        "#create an array with evenly spaced numbers within a specified range\n",
        "#np.linspace(staring_element,ending_element,no_to_divide_into)\n",
        "np.linspace(0, 100, 11)"
      ],
      "metadata": {
        "colab": {
          "base_uri": "https://localhost:8080/"
        },
        "id": "35VpCuX6wDqV",
        "outputId": "db99b5c2-9ba8-498c-a427-b1c7278d9b2e"
      },
      "execution_count": 8,
      "outputs": [
        {
          "output_type": "execute_result",
          "data": {
            "text/plain": [
              "array([  0.,  10.,  20.,  30.,  40.,  50.,  60.,  70.,  80.,  90., 100.])"
            ]
          },
          "metadata": {},
          "execution_count": 8
        }
      ]
    },
    {
      "cell_type": "markdown",
      "source": [
        "## multidimensional arrays"
      ],
      "metadata": {
        "id": "3Die_pbHyByW"
      }
    },
    {
      "cell_type": "code",
      "source": [
        "#creating 3*5 matrix with elements zero\n",
        "np.zeros((3,5))"
      ],
      "metadata": {
        "colab": {
          "base_uri": "https://localhost:8080/"
        },
        "id": "EF565KBnyL2X",
        "outputId": "d5ef3fe3-c302-485e-8273-372f2de94968"
      },
      "execution_count": 9,
      "outputs": [
        {
          "output_type": "execute_result",
          "data": {
            "text/plain": [
              "array([[0., 0., 0., 0., 0.],\n",
              "       [0., 0., 0., 0., 0.],\n",
              "       [0., 0., 0., 0., 0.]])"
            ]
          },
          "metadata": {},
          "execution_count": 9
        }
      ]
    },
    {
      "cell_type": "code",
      "source": [
        "#creating 3*3 matrix with element one\n",
        "np.ones((3,3))"
      ],
      "metadata": {
        "colab": {
          "base_uri": "https://localhost:8080/"
        },
        "id": "JAsdHVjmyXiS",
        "outputId": "ae4c3fa9-5e1c-466d-97d2-cd4b15d16168"
      },
      "execution_count": 10,
      "outputs": [
        {
          "output_type": "execute_result",
          "data": {
            "text/plain": [
              "array([[1., 1., 1.],\n",
              "       [1., 1., 1.],\n",
              "       [1., 1., 1.]])"
            ]
          },
          "metadata": {},
          "execution_count": 10
        }
      ]
    },
    {
      "cell_type": "code",
      "source": [
        "#creating 3*3 matrix using array\n",
        "a= np.array([\n",
        "    [1, 2, 3],\n",
        "    [4, 5, 6],\n",
        "    [7, 8, 9]\n",
        "])\n",
        "a"
      ],
      "metadata": {
        "colab": {
          "base_uri": "https://localhost:8080/"
        },
        "id": "NyduF9g_yxbq",
        "outputId": "e370bb74-4148-4c6b-beec-ff2918bf19ac"
      },
      "execution_count": 50,
      "outputs": [
        {
          "output_type": "execute_result",
          "data": {
            "text/plain": [
              "array([[1, 2, 3],\n",
              "       [4, 5, 6],\n",
              "       [7, 8, 9]])"
            ]
          },
          "metadata": {},
          "execution_count": 50
        }
      ]
    },
    {
      "cell_type": "code",
      "source": [
        "#replacing the element of the array\n",
        "# a[0:1]=20\n",
        "a[0,1]=20\n",
        "print(a)"
      ],
      "metadata": {
        "colab": {
          "base_uri": "https://localhost:8080/"
        },
        "id": "FMyF3yXKzTSh",
        "outputId": "1efcc19f-35e4-4a3e-e7dd-c8f7e23f0133"
      },
      "execution_count": 51,
      "outputs": [
        {
          "output_type": "stream",
          "name": "stdout",
          "text": [
            "[[ 1 20  3]\n",
            " [ 4  5  6]\n",
            " [ 7  8  9]]\n"
          ]
        }
      ]
    },
    {
      "cell_type": "code",
      "source": [
        "#replacing the last element of the array\n",
        "# a[2:3]=1\n",
        "# a[2]=1\n",
        "a[2]=[1, 1, 1]\n",
        "print(a)"
      ],
      "metadata": {
        "colab": {
          "base_uri": "https://localhost:8080/"
        },
        "id": "yUTQbiOV0fBv",
        "outputId": "c82b6e63-6d82-43bd-d76e-6f9104530138"
      },
      "execution_count": 52,
      "outputs": [
        {
          "output_type": "stream",
          "name": "stdout",
          "text": [
            "[[ 1 20  3]\n",
            " [ 4  5  6]\n",
            " [ 1  1  1]]\n"
          ]
        }
      ]
    },
    {
      "cell_type": "code",
      "source": [
        "a[:, 2]=[2, 2, 2]\n",
        "print(a)"
      ],
      "metadata": {
        "colab": {
          "base_uri": "https://localhost:8080/"
        },
        "id": "M7Fnz8wr1Rgm",
        "outputId": "3dd6e5cd-540d-4b8c-f60b-4df78652c1a7"
      },
      "execution_count": 53,
      "outputs": [
        {
          "output_type": "stream",
          "name": "stdout",
          "text": [
            "[[ 1 20  2]\n",
            " [ 4  5  2]\n",
            " [ 1  1  2]]\n"
          ]
        }
      ]
    },
    {
      "cell_type": "code",
      "source": [
        "#creating 3*3 martix of element 10\n",
        "np.full((3, 3), 10)"
      ],
      "metadata": {
        "colab": {
          "base_uri": "https://localhost:8080/"
        },
        "id": "TMGfpQj61nOW",
        "outputId": "8450bf89-cfdd-4075-b7fd-64fdf66897b9"
      },
      "execution_count": 59,
      "outputs": [
        {
          "output_type": "execute_result",
          "data": {
            "text/plain": [
              "array([[10, 10, 10],\n",
              "       [10, 10, 10],\n",
              "       [10, 10, 10]])"
            ]
          },
          "metadata": {},
          "execution_count": 59
        }
      ]
    },
    {
      "cell_type": "markdown",
      "source": [
        "## Randomly generated arrays\n",
        "\n",
        "- NumPy can create arrays filled with random numbers\n",
        "- to ensire the reproducibility , you can seed using ```np.random.seed()``` seed using the exact same random numbers for each executions.\n",
        "-if you remove or change the seed vlues the sequence of random numbers will be chnaged."
      ],
      "metadata": {
        "id": "rB-3oDBJ2Vhl"
      }
    },
    {
      "cell_type": "code",
      "source": [
        "np.random.rand(5)"
      ],
      "metadata": {
        "colab": {
          "base_uri": "https://localhost:8080/"
        },
        "id": "1L-JHxXt2Zqs",
        "outputId": "18d99f44-ff5d-4d5d-8233-5aa2e0eb2695"
      },
      "execution_count": 60,
      "outputs": [
        {
          "output_type": "execute_result",
          "data": {
            "text/plain": [
              "array([0.6430371 , 0.0431241 , 0.30246429, 0.73684397, 0.74527226])"
            ]
          },
          "metadata": {},
          "execution_count": 60
        }
      ]
    },
    {
      "cell_type": "code",
      "source": [
        "#seed makes the random value to be same every time executed\n",
        "np.random.seed(80)\n",
        "np.random.rand(5)"
      ],
      "metadata": {
        "colab": {
          "base_uri": "https://localhost:8080/"
        },
        "id": "Buuc8iQ93Scq",
        "outputId": "f7bc5d0e-ab1e-4480-d4bb-0d22acd8713b"
      },
      "execution_count": 80,
      "outputs": [
        {
          "output_type": "execute_result",
          "data": {
            "text/plain": [
              "array([0.52191572, 0.69940637, 0.26986897, 0.67448187, 0.90807208])"
            ]
          },
          "metadata": {},
          "execution_count": 80
        }
      ]
    },
    {
      "cell_type": "code",
      "source": [
        "np.random.rand(5, 2)"
      ],
      "metadata": {
        "colab": {
          "base_uri": "https://localhost:8080/"
        },
        "id": "Ftm8LrjS4HuV",
        "outputId": "d48c5f99-b8b9-4c1f-baa8-2990877b22dc"
      },
      "execution_count": 81,
      "outputs": [
        {
          "output_type": "execute_result",
          "data": {
            "text/plain": [
              "array([[0.6851502 , 0.21165334],\n",
              "       [0.31726607, 0.2672994 ],\n",
              "       [0.12050632, 0.9968569 ],\n",
              "       [0.08043969, 0.28459975],\n",
              "       [0.5352502 , 0.84580211]])"
            ]
          },
          "metadata": {},
          "execution_count": 81
        }
      ]
    },
    {
      "cell_type": "code",
      "source": [
        "#creating random integer\n",
        "# np.random.randint(low_value,high_value,no_of_elements)\n",
        "# np.random.randint(1,9,5)\n",
        "# np.random.randint(low=0, high=9, size=(5,5))\n",
        "np.random.randint(1, 9, size=(5,5))"
      ],
      "metadata": {
        "colab": {
          "base_uri": "https://localhost:8080/"
        },
        "id": "qneLduE546HZ",
        "outputId": "ea1c45ec-adda-424b-a6d8-bbda34ac36cc"
      },
      "execution_count": 85,
      "outputs": [
        {
          "output_type": "execute_result",
          "data": {
            "text/plain": [
              "array([[4, 7, 4, 3, 6],\n",
              "       [1, 4, 4, 8, 4],\n",
              "       [1, 7, 6, 5, 7],\n",
              "       [4, 4, 8, 5, 1],\n",
              "       [4, 2, 8, 8, 1]])"
            ]
          },
          "metadata": {},
          "execution_count": 85
        }
      ]
    }
  ]
}